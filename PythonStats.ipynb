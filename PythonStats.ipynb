{
 "cells": [
  {
   "cell_type": "markdown",
   "id": "1c978bdb-a3a6-4903-a8cf-067efbc301ec",
   "metadata": {},
   "source": [
    "# Python Stats Assignment "
   ]
  },
  {
   "cell_type": "markdown",
   "id": "9cdb5710-59a9-48f3-ab56-c0e392c4405f",
   "metadata": {},
   "source": [
    "## Zianne Olverson"
   ]
  },
  {
   "cell_type": "markdown",
   "id": "43de4b9d-f07e-4669-b0fc-06ff6b3bd284",
   "metadata": {},
   "source": [
    "### Import of modules"
   ]
  },
  {
   "cell_type": "code",
   "execution_count": 1,
   "id": "1613e3e9-ca78-47c4-aee7-9960a6d291dc",
   "metadata": {},
   "outputs": [],
   "source": [
    "import pandas as pd"
   ]
  },
  {
   "cell_type": "markdown",
   "id": "4ffd991b-6396-445f-87b6-596b70289a3a",
   "metadata": {},
   "source": [
    "## Reading in data"
   ]
  },
  {
   "cell_type": "code",
   "execution_count": 5,
   "id": "e2532e29-abb2-4474-bd83-33e4dcd22d8b",
   "metadata": {},
   "outputs": [
    {
     "ename": "SyntaxError",
     "evalue": "invalid syntax (4063251106.py, line 1)",
     "output_type": "error",
     "traceback": [
      "\u001b[0;36m  Cell \u001b[0;32mIn[5], line 1\u001b[0;36m\u001b[0m\n\u001b[0;31m    read data = pandas.read_csv('brain_size.csv', sep=';', na_values=\".\")\u001b[0m\n\u001b[0m         ^\u001b[0m\n\u001b[0;31mSyntaxError\u001b[0m\u001b[0;31m:\u001b[0m invalid syntax\n"
     ]
    }
   ],
   "source": [
    "read data = pandas.read_csv('brain_size.csv', sep=';', na_values=\".\")"
   ]
  },
  {
   "cell_type": "code",
   "execution_count": null,
   "id": "76e9d871-8911-412b-a92a-f04f04bbc404",
   "metadata": {},
   "outputs": [],
   "source": []
  }
 ],
 "metadata": {
  "kernelspec": {
   "display_name": "Python 3 (ipykernel)",
   "language": "python",
   "name": "python3"
  },
  "language_info": {
   "codemirror_mode": {
    "name": "ipython",
    "version": 3
   },
   "file_extension": ".py",
   "mimetype": "text/x-python",
   "name": "python",
   "nbconvert_exporter": "python",
   "pygments_lexer": "ipython3",
   "version": "3.9.18"
  }
 },
 "nbformat": 4,
 "nbformat_minor": 5
}
