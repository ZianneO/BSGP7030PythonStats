{
 "cells": [
  {
   "cell_type": "markdown",
   "id": "1c978bdb-a3a6-4903-a8cf-067efbc301ec",
   "metadata": {},
   "source": [
    "# Python Stats Assignment "
   ]
  },
  {
   "cell_type": "markdown",
   "id": "9cdb5710-59a9-48f3-ab56-c0e392c4405f",
   "metadata": {},
   "source": [
    "## Zianne Olverson"
   ]
  },
  {
   "cell_type": "markdown",
   "id": "43de4b9d-f07e-4669-b0fc-06ff6b3bd284",
   "metadata": {},
   "source": [
    "### Import of modules"
   ]
  },
  {
   "cell_type": "code",
   "execution_count": 7,
   "id": "1613e3e9-ca78-47c4-aee7-9960a6d291dc",
   "metadata": {},
   "outputs": [],
   "source": [
    "import pandas as pd\n",
    "import numpy as np"
   ]
  },
  {
   "cell_type": "markdown",
   "id": "4ffd991b-6396-445f-87b6-596b70289a3a",
   "metadata": {},
   "source": [
    "## Reading in data"
   ]
  },
  {
   "cell_type": "code",
   "execution_count": 11,
   "id": "e2532e29-abb2-4474-bd83-33e4dcd22d8b",
   "metadata": {},
   "outputs": [
    {
     "name": "stdout",
     "output_type": "stream",
     "text": [
      "   Unnamed: 0  Gender  FSIQ  VIQ  PIQ  Weight  Height  MRI_Count\n",
      "0           1  Female   133  132  124   118.0    64.5     816932\n",
      "1           2    Male   140  150  124     NaN    72.5    1001121\n",
      "2           3    Male   139  123  150   143.0    73.3    1038437\n",
      "3           4    Male   133  129  128   172.0    68.8     965353\n",
      "4           5  Female   137  132  134   147.0    65.0     951545\n"
     ]
    }
   ],
   "source": [
    "data = pd.read_csv('brain_size.csv', sep=';', na_values='.')\n",
    "print(data.head())"
   ]
  },
  {
   "cell_type": "markdown",
   "id": "9921fc33-e424-419e-9a0d-b6675d6fae08",
   "metadata": {},
   "source": [
    "# Creating 3 arrays from the data"
   ]
  },
  {
   "cell_type": "code",
   "execution_count": 14,
   "id": "b4a24886-e17b-4cdf-adbc-bbf978aefe50",
   "metadata": {},
   "outputs": [],
   "source": [
    "t = np.linspace(-6, 6, 20)\n",
    "sin_t = np.sin(t)\n",
    "cos_t = np.cos(t)"
   ]
  },
  {
   "cell_type": "markdown",
   "id": "f05e2a96-291a-4e58-a90f-4f15b0874421",
   "metadata": {},
   "source": [
    "# Creating dataframe using 3 arrays"
   ]
  },
  {
   "cell_type": "code",
   "execution_count": 16,
   "id": "ea720eed-efb1-491d-8f97-321c4669d470",
   "metadata": {},
   "outputs": [
    {
     "data": {
      "text/html": [
       "<div>\n",
       "<style scoped>\n",
       "    .dataframe tbody tr th:only-of-type {\n",
       "        vertical-align: middle;\n",
       "    }\n",
       "\n",
       "    .dataframe tbody tr th {\n",
       "        vertical-align: top;\n",
       "    }\n",
       "\n",
       "    .dataframe thead th {\n",
       "        text-align: right;\n",
       "    }\n",
       "</style>\n",
       "<table border=\"1\" class=\"dataframe\">\n",
       "  <thead>\n",
       "    <tr style=\"text-align: right;\">\n",
       "      <th></th>\n",
       "      <th>t</th>\n",
       "      <th>sin</th>\n",
       "      <th>cos</th>\n",
       "    </tr>\n",
       "  </thead>\n",
       "  <tbody>\n",
       "    <tr>\n",
       "      <th>0</th>\n",
       "      <td>-6.000000</td>\n",
       "      <td>0.279415</td>\n",
       "      <td>0.960170</td>\n",
       "    </tr>\n",
       "    <tr>\n",
       "      <th>1</th>\n",
       "      <td>-5.368421</td>\n",
       "      <td>0.792419</td>\n",
       "      <td>0.609977</td>\n",
       "    </tr>\n",
       "    <tr>\n",
       "      <th>2</th>\n",
       "      <td>-4.736842</td>\n",
       "      <td>0.999701</td>\n",
       "      <td>0.024451</td>\n",
       "    </tr>\n",
       "    <tr>\n",
       "      <th>3</th>\n",
       "      <td>-4.105263</td>\n",
       "      <td>0.821291</td>\n",
       "      <td>-0.570509</td>\n",
       "    </tr>\n",
       "    <tr>\n",
       "      <th>4</th>\n",
       "      <td>-3.473684</td>\n",
       "      <td>0.326021</td>\n",
       "      <td>-0.945363</td>\n",
       "    </tr>\n",
       "    <tr>\n",
       "      <th>5</th>\n",
       "      <td>-2.842105</td>\n",
       "      <td>-0.295030</td>\n",
       "      <td>-0.955488</td>\n",
       "    </tr>\n",
       "    <tr>\n",
       "      <th>6</th>\n",
       "      <td>-2.210526</td>\n",
       "      <td>-0.802257</td>\n",
       "      <td>-0.596979</td>\n",
       "    </tr>\n",
       "    <tr>\n",
       "      <th>7</th>\n",
       "      <td>-1.578947</td>\n",
       "      <td>-0.999967</td>\n",
       "      <td>-0.008151</td>\n",
       "    </tr>\n",
       "    <tr>\n",
       "      <th>8</th>\n",
       "      <td>-0.947368</td>\n",
       "      <td>-0.811882</td>\n",
       "      <td>0.583822</td>\n",
       "    </tr>\n",
       "    <tr>\n",
       "      <th>9</th>\n",
       "      <td>-0.315789</td>\n",
       "      <td>-0.310567</td>\n",
       "      <td>0.950551</td>\n",
       "    </tr>\n",
       "    <tr>\n",
       "      <th>10</th>\n",
       "      <td>0.315789</td>\n",
       "      <td>0.310567</td>\n",
       "      <td>0.950551</td>\n",
       "    </tr>\n",
       "    <tr>\n",
       "      <th>11</th>\n",
       "      <td>0.947368</td>\n",
       "      <td>0.811882</td>\n",
       "      <td>0.583822</td>\n",
       "    </tr>\n",
       "    <tr>\n",
       "      <th>12</th>\n",
       "      <td>1.578947</td>\n",
       "      <td>0.999967</td>\n",
       "      <td>-0.008151</td>\n",
       "    </tr>\n",
       "    <tr>\n",
       "      <th>13</th>\n",
       "      <td>2.210526</td>\n",
       "      <td>0.802257</td>\n",
       "      <td>-0.596979</td>\n",
       "    </tr>\n",
       "    <tr>\n",
       "      <th>14</th>\n",
       "      <td>2.842105</td>\n",
       "      <td>0.295030</td>\n",
       "      <td>-0.955488</td>\n",
       "    </tr>\n",
       "    <tr>\n",
       "      <th>15</th>\n",
       "      <td>3.473684</td>\n",
       "      <td>-0.326021</td>\n",
       "      <td>-0.945363</td>\n",
       "    </tr>\n",
       "    <tr>\n",
       "      <th>16</th>\n",
       "      <td>4.105263</td>\n",
       "      <td>-0.821291</td>\n",
       "      <td>-0.570509</td>\n",
       "    </tr>\n",
       "    <tr>\n",
       "      <th>17</th>\n",
       "      <td>4.736842</td>\n",
       "      <td>-0.999701</td>\n",
       "      <td>0.024451</td>\n",
       "    </tr>\n",
       "    <tr>\n",
       "      <th>18</th>\n",
       "      <td>5.368421</td>\n",
       "      <td>-0.792419</td>\n",
       "      <td>0.609977</td>\n",
       "    </tr>\n",
       "    <tr>\n",
       "      <th>19</th>\n",
       "      <td>6.000000</td>\n",
       "      <td>-0.279415</td>\n",
       "      <td>0.960170</td>\n",
       "    </tr>\n",
       "  </tbody>\n",
       "</table>\n",
       "</div>"
      ],
      "text/plain": [
       "           t       sin       cos\n",
       "0  -6.000000  0.279415  0.960170\n",
       "1  -5.368421  0.792419  0.609977\n",
       "2  -4.736842  0.999701  0.024451\n",
       "3  -4.105263  0.821291 -0.570509\n",
       "4  -3.473684  0.326021 -0.945363\n",
       "5  -2.842105 -0.295030 -0.955488\n",
       "6  -2.210526 -0.802257 -0.596979\n",
       "7  -1.578947 -0.999967 -0.008151\n",
       "8  -0.947368 -0.811882  0.583822\n",
       "9  -0.315789 -0.310567  0.950551\n",
       "10  0.315789  0.310567  0.950551\n",
       "11  0.947368  0.811882  0.583822\n",
       "12  1.578947  0.999967 -0.008151\n",
       "13  2.210526  0.802257 -0.596979\n",
       "14  2.842105  0.295030 -0.955488\n",
       "15  3.473684 -0.326021 -0.945363\n",
       "16  4.105263 -0.821291 -0.570509\n",
       "17  4.736842 -0.999701  0.024451\n",
       "18  5.368421 -0.792419  0.609977\n",
       "19  6.000000 -0.279415  0.960170"
      ]
     },
     "execution_count": 16,
     "metadata": {},
     "output_type": "execute_result"
    }
   ],
   "source": [
    "pd.DataFrame({'t':t, 'sin': sin_t, 'cos': cos_t})"
   ]
  },
  {
   "cell_type": "markdown",
   "id": "dfd72489-697e-47c2-8af6-5b234b1644e7",
   "metadata": {},
   "source": [
    "# Observing and manipulating the data"
   ]
  },
  {
   "cell_type": "code",
   "execution_count": 17,
   "id": "0b85f225-39d2-4d58-8971-f287808b29f6",
   "metadata": {},
   "outputs": [
    {
     "data": {
      "text/plain": [
       "(40, 8)"
      ]
     },
     "execution_count": 17,
     "metadata": {},
     "output_type": "execute_result"
    }
   ],
   "source": [
    "data.shape"
   ]
  },
  {
   "cell_type": "markdown",
   "id": "ae9855fe-fe65-4aec-a27e-d1b1ceeb93c2",
   "metadata": {},
   "source": [
    "### Data has 40 rows and 8 columns"
   ]
  },
  {
   "cell_type": "code",
   "execution_count": 19,
   "id": "7f09be9c-98b4-413e-a27c-8f19f1645265",
   "metadata": {},
   "outputs": [
    {
     "data": {
      "text/plain": [
       "Index(['Unnamed: 0', 'Gender', 'FSIQ', 'VIQ', 'PIQ', 'Weight', 'Height',\n",
       "       'MRI_Count'],\n",
       "      dtype='object')"
      ]
     },
     "execution_count": 19,
     "metadata": {},
     "output_type": "execute_result"
    }
   ],
   "source": [
    "data.columns"
   ]
  },
  {
   "cell_type": "markdown",
   "id": "45eb1e44-a7da-46e7-86ac-25a3132057b4",
   "metadata": {},
   "source": [
    "# Printing gender names in columns"
   ]
  },
  {
   "cell_type": "code",
   "execution_count": 20,
   "id": "9750d3f9-c391-4ddd-876c-383097f405d1",
   "metadata": {},
   "outputs": [
    {
     "name": "stdout",
     "output_type": "stream",
     "text": [
      "0    Female\n",
      "1      Male\n",
      "2      Male\n",
      "3      Male\n",
      "4    Female\n",
      "Name: Gender, dtype: object\n"
     ]
    }
   ],
   "source": [
    "print(data['Gender'].head())"
   ]
  },
  {
   "cell_type": "markdown",
   "id": "52c963fd-5179-4b06-aa51-e03ffca5bdf5",
   "metadata": {},
   "source": [
    "# Mean VIQ for females within the dataframe"
   ]
  },
  {
   "cell_type": "code",
   "execution_count": null,
   "id": "215b71a0-5374-45ea-8b89-f8df0231c716",
   "metadata": {},
   "outputs": [],
   "source": []
  }
 ],
 "metadata": {
  "kernelspec": {
   "display_name": "Python 3 (ipykernel)",
   "language": "python",
   "name": "python3"
  },
  "language_info": {
   "codemirror_mode": {
    "name": "ipython",
    "version": 3
   },
   "file_extension": ".py",
   "mimetype": "text/x-python",
   "name": "python",
   "nbconvert_exporter": "python",
   "pygments_lexer": "ipython3",
   "version": "3.9.18"
  }
 },
 "nbformat": 4,
 "nbformat_minor": 5
}
